{
 "cells": [
  {
   "cell_type": "code",
   "execution_count": 28,
   "metadata": {},
   "outputs": [
    {
     "name": "stdout",
     "output_type": "stream",
     "text": [
      "Data_Prep.ipynb       \u001b[34mimages\u001b[m\u001b[m                placeholderSmiley.png\r\n",
      "README.md             kanye.jpg             requirements.txt\r\n",
      "app.py                newWebcam.py          \u001b[34mtestFlask\u001b[m\u001b[m\r\n",
      "backup.py             oneShotLearning.csv\r\n"
     ]
    }
   ],
   "source": [
    "!ls\n"
   ]
  },
  {
   "cell_type": "code",
   "execution_count": 29,
   "metadata": {},
   "outputs": [],
   "source": [
    "import pandas as pd\n",
    "import numpy as np\n",
    "import seaborn as sns"
   ]
  },
  {
   "cell_type": "code",
   "execution_count": 30,
   "metadata": {},
   "outputs": [],
   "source": [
    "face_df = pd.read_csv(\"./oneShotLearning.csv\")"
   ]
  },
  {
   "cell_type": "code",
   "execution_count": 39,
   "metadata": {},
   "outputs": [
    {
     "name": "stdout",
     "output_type": "stream",
     "text": [
      "       name   left   top  timestamp  numPerson  personId\n",
      "0    Si Han    484   184       2152          1         0\n",
      "1    Si Han    484   184       2152          1         0\n",
      "2    Si Han    484   184       2153          1         0\n",
      "3    Si Han    484   184       2153          1         0\n",
      "4    Si Han    484   184       2153          1         0\n",
      "..      ...    ...   ...        ...        ...       ...\n",
      "553  Si Han    684   188       2248          1         0\n",
      "554  Si Han    684   188       2248          2         0\n",
      "555  Suyash     96   320       2248          2         1\n",
      "556  Si Han    684   188       2248          2         0\n",
      "557  Suyash     96   320       2248          2         1\n",
      "\n",
      "[558 rows x 6 columns]\n"
     ]
    }
   ],
   "source": [
    "print(face_df)"
   ]
  },
  {
   "cell_type": "code",
   "execution_count": 34,
   "metadata": {},
   "outputs": [
    {
     "name": "stdout",
     "output_type": "stream",
     "text": [
      "2\n"
     ]
    },
    {
     "data": {
      "text/plain": [
       "int"
      ]
     },
     "execution_count": 34,
     "metadata": {},
     "output_type": "execute_result"
    }
   ],
   "source": [
    "numPerson = face_df[\"numPerson\"].iloc[-1].item()\n",
    "print(numPerson)\n",
    "type(numPerson)\n"
   ]
  },
  {
   "cell_type": "code",
   "execution_count": null,
   "metadata": {},
   "outputs": [],
   "source": []
  },
  {
   "cell_type": "code",
   "execution_count": 41,
   "metadata": {},
   "outputs": [
    {
     "name": "stdout",
     "output_type": "stream",
     "text": [
      "2248\n"
     ]
    }
   ],
   "source": [
    "# Find max of timestamp\n",
    "max_timestamp = face_df.iloc[-1, 3]\n",
    "print(max_timestamp)\n",
    "\n",
    "# Filter last 10 seconds frame\n",
    "new_df = face_df[face_df.timestamp - max_timestamp > - 10]\n",
    "\n"
   ]
  },
  {
   "cell_type": "code",
   "execution_count": 42,
   "metadata": {},
   "outputs": [
    {
     "name": "stdout",
     "output_type": "stream",
     "text": [
      "       name   left   top  timestamp  numPerson  personId\n",
      "485  Si Han    616   188       2239          1         0\n",
      "486  Si Han    616   188       2239          1         0\n",
      "487  Si Han    616   188       2239          1         0\n",
      "488  Si Han    616   188       2239          2         0\n",
      "489  Suyash    208   320       2239          2         1\n",
      "..      ...    ...   ...        ...        ...       ...\n",
      "553  Si Han    684   188       2248          1         0\n",
      "554  Si Han    684   188       2248          2         0\n",
      "555  Suyash     96   320       2248          2         1\n",
      "556  Si Han    684   188       2248          2         0\n",
      "557  Suyash     96   320       2248          2         1\n",
      "\n",
      "[73 rows x 6 columns]\n"
     ]
    }
   ],
   "source": [
    "print(new_df)"
   ]
  },
  {
   "cell_type": "markdown",
   "metadata": {},
   "source": [
    "name_dict {\n",
    "    name : {\n",
    "        latestLeft:\n",
    "        latestTop: \n",
    "        present: \n",
    "    }\n",
    "\n",
    "}"
   ]
  },
  {
   "cell_type": "code",
   "execution_count": 47,
   "metadata": {},
   "outputs": [
    {
     "name": "stdout",
     "output_type": "stream",
     "text": [
      "['Si Han' 'Suyash']\n"
     ]
    }
   ],
   "source": [
    "# Find unique names\n",
    "new_names = new_df.name.unique()\n",
    "print(new_names)\n",
    "\n",
    "\n"
   ]
  },
  {
   "cell_type": "code",
   "execution_count": 48,
   "metadata": {},
   "outputs": [],
   "source": [
    "name_dict = {}"
   ]
  },
  {
   "cell_type": "code",
   "execution_count": 50,
   "metadata": {},
   "outputs": [],
   "source": [
    "# Find last occurence of name from the bottom\n",
    "for name in new_names:\n",
    "    # Get the latest left, top and presence\n",
    "    latest_timestamp = new_df[new_df.name == name].iloc[-1, 3]\n",
    "    latest_left = new_df[new_df.name == name].iloc[-1, 1]\n",
    "    latest_top = new_df[new_df.name == name].iloc[-1, 2]\n",
    "    if latest_timestamp == max_timestamp: \n",
    "        notDetected = 0\n",
    "    else:\n",
    "        notDetected = 1\n",
    "    name_dict[name] = {\n",
    "        \"latest_timestamp\" : latest_timestamp,\n",
    "        \"latest_left\" : latest_left,\n",
    "        \"latest_top\" : latest_top,\n",
    "        \"notDetected\": notDetected\n",
    "    }\n",
    "    \n"
   ]
  },
  {
   "cell_type": "code",
   "execution_count": 52,
   "metadata": {},
   "outputs": [
    {
     "name": "stdout",
     "output_type": "stream",
     "text": [
      "{'Si Han': {'latest_timestamp': 2248, 'latest_left': 684, 'latest_top': 188}, 'Suyash': {'latest_timestamp': 2248, 'latest_left': 96, 'latest_top': 320}}\n"
     ]
    }
   ],
   "source": [
    "print(name_dict)"
   ]
  },
  {
   "cell_type": "code",
   "execution_count": null,
   "metadata": {},
   "outputs": [],
   "source": []
  }
 ],
 "metadata": {
  "kernelspec": {
   "display_name": "Python 3",
   "language": "python",
   "name": "python3"
  },
  "language_info": {
   "codemirror_mode": {
    "name": "ipython",
    "version": 3
   },
   "file_extension": ".py",
   "mimetype": "text/x-python",
   "name": "python",
   "nbconvert_exporter": "python",
   "pygments_lexer": "ipython3",
   "version": "3.7.4"
  }
 },
 "nbformat": 4,
 "nbformat_minor": 2
}

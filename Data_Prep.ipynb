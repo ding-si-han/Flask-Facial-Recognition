{
 "cells": [
  {
   "cell_type": "code",
   "execution_count": 1,
   "metadata": {},
   "outputs": [
    {
     "name": "stdout",
     "output_type": "stream",
     "text": [
      "README.md             \u001b[34mimages\u001b[m\u001b[m                placeholderSmiley.png\r\n",
      "Untitled.ipynb        kanye.jpg             requirements.txt\r\n",
      "app.py                newWebcam.py          \u001b[34mtestFlask\u001b[m\u001b[m\r\n",
      "backup.py             oneShotLearning.csv\r\n"
     ]
    }
   ],
   "source": [
    "!ls\n"
   ]
  },
  {
   "cell_type": "code",
   "execution_count": 3,
   "metadata": {},
   "outputs": [],
   "source": [
    "import pandas as pd\n",
    "import numpy as np\n",
    "import seaborn as sns"
   ]
  },
  {
   "cell_type": "code",
   "execution_count": 6,
   "metadata": {},
   "outputs": [],
   "source": [
    "face_df = pd.read_csv(\"./oneShotLearning.csv\")"
   ]
  },
  {
   "cell_type": "code",
   "execution_count": 7,
   "metadata": {},
   "outputs": [
    {
     "name": "stdout",
     "output_type": "stream",
     "text": [
      "   name   left   top  timestamp  numPerson  personId\n",
      "0   Jim    428   404       3087          1         0\n",
      "1   Jim    428   404       3087          1         0\n",
      "2   Jim    448   404       3087          1         0\n",
      "3   Jim    448   404       3087          1         0\n",
      "4   Jim    428   404       3088          1         0\n",
      "..  ...    ...   ...        ...        ...       ...\n",
      "73  Jim    400   404       3112          1         0\n",
      "74  Jim    424   428       3113          1         0\n",
      "75  Jim    424   428       3113          1         0\n",
      "76  Jim    448   404       3113          1         0\n",
      "77  Jim    448   404       3113          1         0\n",
      "\n",
      "[78 rows x 6 columns]\n"
     ]
    }
   ],
   "source": [
    "print(face_df)"
   ]
  },
  {
   "cell_type": "code",
   "execution_count": 9,
   "metadata": {},
   "outputs": [
    {
     "data": {
      "text/html": [
       "<div>\n",
       "<style scoped>\n",
       "    .dataframe tbody tr th:only-of-type {\n",
       "        vertical-align: middle;\n",
       "    }\n",
       "\n",
       "    .dataframe tbody tr th {\n",
       "        vertical-align: top;\n",
       "    }\n",
       "\n",
       "    .dataframe thead th {\n",
       "        text-align: right;\n",
       "    }\n",
       "</style>\n",
       "<table border=\"1\" class=\"dataframe\">\n",
       "  <thead>\n",
       "    <tr style=\"text-align: right;\">\n",
       "      <th></th>\n",
       "      <th>name</th>\n",
       "      <th>left</th>\n",
       "      <th>top</th>\n",
       "      <th>timestamp</th>\n",
       "      <th>numPerson</th>\n",
       "      <th>personId</th>\n",
       "    </tr>\n",
       "  </thead>\n",
       "  <tbody>\n",
       "    <tr>\n",
       "      <td>73</td>\n",
       "      <td>Jim</td>\n",
       "      <td>400</td>\n",
       "      <td>404</td>\n",
       "      <td>3112</td>\n",
       "      <td>1</td>\n",
       "      <td>0</td>\n",
       "    </tr>\n",
       "    <tr>\n",
       "      <td>74</td>\n",
       "      <td>Jim</td>\n",
       "      <td>424</td>\n",
       "      <td>428</td>\n",
       "      <td>3113</td>\n",
       "      <td>1</td>\n",
       "      <td>0</td>\n",
       "    </tr>\n",
       "    <tr>\n",
       "      <td>75</td>\n",
       "      <td>Jim</td>\n",
       "      <td>424</td>\n",
       "      <td>428</td>\n",
       "      <td>3113</td>\n",
       "      <td>1</td>\n",
       "      <td>0</td>\n",
       "    </tr>\n",
       "    <tr>\n",
       "      <td>76</td>\n",
       "      <td>Jim</td>\n",
       "      <td>448</td>\n",
       "      <td>404</td>\n",
       "      <td>3113</td>\n",
       "      <td>1</td>\n",
       "      <td>0</td>\n",
       "    </tr>\n",
       "    <tr>\n",
       "      <td>77</td>\n",
       "      <td>Jim</td>\n",
       "      <td>448</td>\n",
       "      <td>404</td>\n",
       "      <td>3113</td>\n",
       "      <td>1</td>\n",
       "      <td>0</td>\n",
       "    </tr>\n",
       "  </tbody>\n",
       "</table>\n",
       "</div>"
      ],
      "text/plain": [
       "   name   left   top  timestamp  numPerson  personId\n",
       "73  Jim    400   404       3112          1         0\n",
       "74  Jim    424   428       3113          1         0\n",
       "75  Jim    424   428       3113          1         0\n",
       "76  Jim    448   404       3113          1         0\n",
       "77  Jim    448   404       3113          1         0"
      ]
     },
     "execution_count": 9,
     "metadata": {},
     "output_type": "execute_result"
    }
   ],
   "source": [
    "face_outputs = face_df[-5:]\n",
    "face_outputs.head()"
   ]
  },
  {
   "cell_type": "code",
   "execution_count": null,
   "metadata": {},
   "outputs": [],
   "source": []
  }
 ],
 "metadata": {
  "kernelspec": {
   "display_name": "Python 3",
   "language": "python",
   "name": "python3"
  },
  "language_info": {
   "codemirror_mode": {
    "name": "ipython",
    "version": 3
   },
   "file_extension": ".py",
   "mimetype": "text/x-python",
   "name": "python",
   "nbconvert_exporter": "python",
   "pygments_lexer": "ipython3",
   "version": "3.7.4"
  }
 },
 "nbformat": 4,
 "nbformat_minor": 2
}
